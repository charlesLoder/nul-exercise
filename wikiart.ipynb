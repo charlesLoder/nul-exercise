{
 "cells": [
  {
   "cell_type": "markdown",
   "id": "49f77309-2149-4712-81b3-c2f4f6771a45",
   "metadata": {},
   "source": [
    "# Query Wikiart\n",
    "\n",
    "A RAG pipeline using the wikiart-subjects dataset"
   ]
  },
  {
   "cell_type": "code",
   "execution_count": 1,
   "id": "b60bccc5-dc1c-4f64-a292-8f305f85e23f",
   "metadata": {},
   "outputs": [
    {
     "data": {
      "text/plain": [
       "True"
      ]
     },
     "execution_count": 1,
     "metadata": {},
     "output_type": "execute_result"
    }
   ],
   "source": [
    "import boto3\n",
    "import os\n",
    "import pandas as pd\n",
    "from datasets import load_dataset\n",
    "from dotenv import load_dotenv\n",
    "from langchain_aws.chat_models.bedrock import ChatBedrock\n",
    "from langchain_aws.embeddings.bedrock import BedrockEmbeddings\n",
    "from langchain.chains import ConversationalRetrievalChain\n",
    "from langchain.vectorstores import Chroma\n",
    "from typing import List\n",
    "\n",
    "load_dotenv()"
   ]
  },
  {
   "cell_type": "code",
   "execution_count": 10,
   "id": "ba8354a4-d892-43e7-a3f4-240a290dea70",
   "metadata": {},
   "outputs": [],
   "source": [
    "def load_art_dataset(dataset_name: str, subset_size: int = None):\n",
    "    \"\"\"\n",
    "    Load the dataset and prepare it for processing\n",
    "    \"\"\"\n",
    "    dataset = load_dataset(dataset_name)\n",
    "    df = dataset['train'].to_pandas()\n",
    "    \n",
    "    if subset_size:\n",
    "        df = df.head(subset_size)\n",
    "    \n",
    "    # Create combined text field for embeddings\n",
    "    df['combined_text'] = df.apply(\n",
    "        # santize the `style` field, e.g. art-nouveau-modern > art nouveau modern\n",
    "        lambda x: f\"Description: {x['text']}\\nStyle: {x['style'].replace('-', ' ')}\", \n",
    "        axis=1\n",
    "    )\n",
    "    \n",
    "    return dataset, df\n",
    "\n",
    "\n",
    "def setup_aws_client(aws_access_key_id: str, aws_secret_access_key: str, region_name: str = 'us-east-1'):\n",
    "    \"\"\"\n",
    "    Set up AWS session and client\n",
    "    \"\"\"\n",
    "    session = boto3.Session(\n",
    "        aws_access_key_id=aws_access_key_id,\n",
    "        aws_secret_access_key=aws_secret_access_key,\n",
    "        region_name=region_name\n",
    "    )\n",
    "    \n",
    "    client = session.client('bedrock-runtime')\n",
    "    return client\n",
    "\n",
    "\n",
    "def setup_llm_and_embeddings(client):\n",
    "    \"\"\"\n",
    "    Set up language model and embeddings using AWS Bedrock\n",
    "    \"\"\"\n",
    "    \n",
    "    # Using llama b/c I've been testing locally using llama3.2 via Ollama\n",
    "    llm = ChatBedrock(\n",
    "        client=client,\n",
    "        model_id=\"anthropic.claude-3-5-sonnet-20240620-v1:0\",\n",
    "        model_kwargs={\"temperature\": 0.8}\n",
    "    )\n",
    "    \n",
    "    # Using Titan for embeddings\n",
    "    embeddings = BedrockEmbeddings(\n",
    "        client=client,\n",
    "        model_id=\"amazon.titan-embed-text-v1\"\n",
    "    )\n",
    "    \n",
    "    return llm, embeddings\n",
    "\n",
    "\n",
    "def create_vectorstore(df: pd.DataFrame, embeddings):\n",
    "    \"\"\"\n",
    "    Create and populate the vector store\n",
    "    \"\"\"\n",
    "    texts = df['combined_text'].tolist()\n",
    "    metadatas = [\n",
    "        {'id': str(i), 'style': style} \n",
    "        for i, style in enumerate(df['style'])\n",
    "    ]\n",
    "    \n",
    "    vectorstore = Chroma.from_texts(\n",
    "        texts=texts,\n",
    "        embedding=embeddings,\n",
    "        metadatas=metadatas,\n",
    "        persist_directory=\"./chroma\"\n",
    "    )\n",
    "    \n",
    "    return vectorstore\n",
    "\n",
    "\n",
    "def setup_qa_chain(llm, vectorstore):\n",
    "    \"\"\"\n",
    "    Set up the question-answering chain\n",
    "    \"\"\"\n",
    "    qa_chain = ConversationalRetrievalChain.from_llm(\n",
    "        llm=llm,\n",
    "        retriever=vectorstore.as_retriever(\n",
    "            search_kwargs={\"k\": 5}\n",
    "        ),\n",
    "        return_source_documents=True\n",
    "    )\n",
    "    \n",
    "    return qa_chain\n",
    "\n",
    "\n",
    "def query_artwork(query: str, qa_chain, dataset, chat_history: List = None):\n",
    "    \"\"\"\n",
    "    Query the artwork database and return results with images\n",
    "    \"\"\"\n",
    "    if chat_history is None:\n",
    "        chat_history = []\n",
    "        \n",
    "    enhanced_query = f\"\"\"\n",
    "    Find artworks matching this query: {query}\n",
    "    Focus on the style and description of the artworks.\n",
    "    \"\"\"\n",
    "    \n",
    "    response = qa_chain.invoke({\n",
    "        \"question\": enhanced_query, \n",
    "        \"chat_history\": chat_history\n",
    "    })\n",
    "    \n",
    "    # Get images for the retrieved documents\n",
    "    retrieved_images = []\n",
    "    for doc in response[\"source_documents\"]:\n",
    "        image_id = int(doc.metadata.get('id'))\n",
    "        try:\n",
    "            image = dataset['train'][image_id]['image']\n",
    "            style = dataset['train'][image_id]['style']\n",
    "            retrieved_images.append((image, style))\n",
    "        except Exception as e:\n",
    "            print(f\"Error loading image {image_id}: {e}\")\n",
    "    \n",
    "    return {\n",
    "        \"answer\": response[\"answer\"],\n",
    "        \"images\": retrieved_images,\n",
    "        \"source_documents\": response[\"source_documents\"]\n",
    "    }\n",
    "\n",
    "\n",
    "def display_results(result):\n",
    "    \"\"\"\n",
    "    Display the query results and images\n",
    "    \"\"\"\n",
    "    print(\"Answer:\", result[\"answer\"])\n",
    "    for img, _style in result[\"images\"]:\n",
    "        img.show()\n"
   ]
  },
  {
   "cell_type": "code",
   "execution_count": 11,
   "id": "f5c08707-b533-45be-b10b-e99afc6f4ab7",
   "metadata": {},
   "outputs": [],
   "source": [
    "# 1. Load the dataset\n",
    "wikiart_dataset = \"jlbaker361/wikiart-subjects\"\n",
    "dataset, df = load_art_dataset(wikiart_dataset, subset_size=1000)  # Use small subset for testing"
   ]
  },
  {
   "cell_type": "code",
   "execution_count": 12,
   "id": "2c329198",
   "metadata": {},
   "outputs": [],
   "source": [
    "#2. Set up AWS credentials and client\n",
    "aws_access_key_id = os.getenv(\"AWS_ACCESS_KEY_ID\")\n",
    "aws_secret_access_key = os.getenv(\"AWS_SECRET_ACCESS_KEY\")\n",
    "    \n",
    "client = setup_aws_client(aws_access_key_id, aws_secret_access_key)"
   ]
  },
  {
   "cell_type": "code",
   "execution_count": 13,
   "id": "848427e4-1d17-449b-bda2-79ddd9e4da81",
   "metadata": {},
   "outputs": [],
   "source": [
    "# 3. Set up the language model and embeddings\n",
    "llm, embeddings = setup_llm_and_embeddings(client)"
   ]
  },
  {
   "cell_type": "code",
   "execution_count": 14,
   "id": "a9a50b1e-43b2-4ef8-9226-17b1fa09f4b6",
   "metadata": {},
   "outputs": [],
   "source": [
    "# 4. Create the vector store\n",
    "vectorstore = create_vectorstore(df, embeddings)"
   ]
  },
  {
   "cell_type": "code",
   "execution_count": 15,
   "id": "254bdc4d-cca8-454a-bf37-a35c1f5b7b13",
   "metadata": {},
   "outputs": [],
   "source": [
    "# 5. Set up the QA chain\n",
    "qa_chain = setup_qa_chain(llm, vectorstore)"
   ]
  },
  {
   "cell_type": "markdown",
   "id": "7f476d0a-15c3-4624-9e61-670510abdabd",
   "metadata": {},
   "source": [
    "## Queries"
   ]
  },
  {
   "cell_type": "markdown",
   "id": "74e9b8c2-ed1a-4efa-b64a-eda0810af122",
   "metadata": {},
   "source": [
    "### 1) Featuring women"
   ]
  },
  {
   "cell_type": "code",
   "execution_count": 16,
   "id": "b7fc60f4-011d-4153-919a-25e468d4c3fe",
   "metadata": {},
   "outputs": [
    {
     "name": "stdout",
     "output_type": "stream",
     "text": [
      "Answer: Based on the provided context, I can identify several artworks that feature women:\n",
      "\n",
      "1. Two baroque paintings are described as featuring \"a woman and a man.\" While these include both genders, they do prominently feature women.\n",
      "\n",
      "2. There are two art nouveau modern paintings described as showing \"a woman laying on the ground.\" These artworks specifically focus on a female figure.\n",
      "\n",
      "3. A rococo painting is described as depicting \"a woman in a landscape.\" This artwork clearly features a woman as the main subject.\n",
      "\n",
      "These artworks span different artistic styles - baroque, art nouveau modern, and rococo - while all featuring women in their descriptions. The baroque pieces include both a man and a woman, while the art nouveau modern and rococo paintings seem to focus solely on female figures in different poses and settings.\n",
      "\n",
      "Retrieved Artworks:\n"
     ]
    }
   ],
   "source": [
    "query = \"What is some art that features women?\"\n",
    "result = query_artwork(query, qa_chain, dataset)\n",
    "display_results(result)"
   ]
  },
  {
   "cell_type": "markdown",
   "id": "6c2f77ce-9eca-4139-8b64-bc8271da5065",
   "metadata": {},
   "source": [
    "### 2) Religious art"
   ]
  },
  {
   "cell_type": "code",
   "execution_count": 17,
   "id": "883bc0f9-f52d-48d7-adfa-d73b3f430d88",
   "metadata": {},
   "outputs": [
    {
     "name": "stdout",
     "output_type": "stream",
     "text": [
      "Answer: Based on the context provided, I can suggest a few artworks that match your query for religious art:\n",
      "\n",
      "1. A drawing of a church with a statue\n",
      "   Style: Art Nouveau Modern\n",
      "   This artwork features a religious building (church) and likely includes a statue, which could be of a religious figure.\n",
      "\n",
      "2. A painting of Jesus holding a scroll\n",
      "   Style: Art Nouveau Modern\n",
      "   This is a direct representation of a religious figure, Jesus, depicted holding a scroll, which is a common motif in religious art.\n",
      "\n",
      "3. A drawing of an angel holding a bucket\n",
      "   Style: Baroque\n",
      "   This artwork features an angel, which is a religious figure often depicted in Christian art. The Baroque style is also frequently associated with religious artworks from the 17th and 18th centuries.\n",
      "\n",
      "These artworks encompass different styles (Art Nouveau Modern and Baroque) and depict various religious subjects, including architecture (church), central religious figures (Jesus), and spiritual beings (angel). They all fall under the category of religious art, matching your query.\n",
      "\n",
      "Retrieved Artworks:\n"
     ]
    }
   ],
   "source": [
    "query = \"I'd like to see some religious art\"\n",
    "result = query_artwork(query, qa_chain, dataset)\n",
    "display_results(result)"
   ]
  },
  {
   "cell_type": "markdown",
   "id": "0e795f61-a0ca-4f86-af96-419137edb8f5",
   "metadata": {},
   "source": [
    "### 3) Renaissance art"
   ]
  },
  {
   "cell_type": "code",
   "execution_count": 18,
   "id": "247a7f2d-832e-4d88-990c-f398aec468f7",
   "metadata": {},
   "outputs": [
    {
     "name": "stdout",
     "output_type": "stream",
     "text": [
      "Answer: Based on the context provided, I can identify several paintings from the Renaissance period that match your query. Here are the relevant artworks:\n",
      "\n",
      "1. High Renaissance paintings:\n",
      "   - Two paintings described as \"the painting of person\"\n",
      "   \n",
      "2. Early Renaissance paintings:\n",
      "   - Two paintings described as \"the painting of person\"\n",
      "   - One painting described as \"a painting of a man in a robe and hat\"\n",
      "\n",
      "All of these artworks are from the Renaissance period, either from the Early Renaissance or High Renaissance styles. The descriptions are quite general, mostly referring to paintings of people or individuals. One painting provides a bit more detail, showing a man wearing a robe and hat, which was common attire in Renaissance portraiture.\n",
      "\n",
      "It's worth noting that without more specific information about the subjects, artists, or titles of these paintings, I can't provide more detailed descriptions. However, these examples demonstrate that there are multiple Renaissance paintings in the dataset, featuring human subjects, which was a common theme in Renaissance art.\n",
      "\n",
      "Retrieved Artworks:\n"
     ]
    }
   ],
   "source": [
    "query = \"Paintings from the renaissance\"\n",
    "result = query_artwork(query, qa_chain, dataset)\n",
    "display_results(result)"
   ]
  },
  {
   "cell_type": "markdown",
   "id": "0ba97e24-7aef-4c4d-8800-83696d390039",
   "metadata": {},
   "source": [
    "### 4) Expressionist art featuring nature"
   ]
  },
  {
   "cell_type": "code",
   "execution_count": 19,
   "id": "946ab1b3-bee0-4187-b78c-030194d4702e",
   "metadata": {},
   "outputs": [
    {
     "name": "stdout",
     "output_type": "stream",
     "text": [
      "Answer: Based on the context provided, I can suggest a few artworks that match your query for expressionist art featuring nature:\n",
      "\n",
      "1. There are two paintings described as \"a painting of people in a forest\" with the style listed as \"expressionism\". These would fit your request for expressionist art featuring nature, specifically a forest landscape.\n",
      "\n",
      "2. There's also a painting described as \"a painting of a man and woman in a forest\" with the style listed as \"expressionism\". This again features a forest setting in an expressionist style.\n",
      "\n",
      "These artworks align with your interest in expressionist art and nature themes, as they depict forest scenes. While they don't specifically mention animals, the forest setting implies a natural environment.\n",
      "\n",
      "It's worth noting that the context doesn't provide any expressionist artworks explicitly featuring animals or other types of landscapes beyond forests. If you're looking for more variety in the nature scenes or specific depictions of animals in an expressionist style, I don't have information about such artworks in the given context.\n",
      "\n",
      "Retrieved Artworks:\n"
     ]
    }
   ],
   "source": [
    "query = \"I'd like to see some expressionist art that featrues nature, like animals or landscapes.\"\n",
    "result = query_artwork(query, qa_chain, dataset)\n",
    "display_results(result)"
   ]
  },
  {
   "cell_type": "code",
   "execution_count": null,
   "id": "56c0c675-3f10-405a-8bda-ab7fe918fe9f",
   "metadata": {},
   "outputs": [],
   "source": []
  }
 ],
 "metadata": {
  "kernelspec": {
   "display_name": "Python 3 (ipykernel)",
   "language": "python",
   "name": "python3"
  },
  "language_info": {
   "codemirror_mode": {
    "name": "ipython",
    "version": 3
   },
   "file_extension": ".py",
   "mimetype": "text/x-python",
   "name": "python",
   "nbconvert_exporter": "python",
   "pygments_lexer": "ipython3",
   "version": "3.10.15"
  }
 },
 "nbformat": 4,
 "nbformat_minor": 5
}
