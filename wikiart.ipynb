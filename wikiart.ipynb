{
 "cells": [
  {
   "cell_type": "markdown",
   "id": "49f77309-2149-4712-81b3-c2f4f6771a45",
   "metadata": {},
   "source": [
    "# Query Wikiart"
   ]
  },
  {
   "cell_type": "code",
   "execution_count": 1,
   "id": "b60bccc5-dc1c-4f64-a292-8f305f85e23f",
   "metadata": {},
   "outputs": [],
   "source": [
    "import pandas as pd\n",
    "from datasets import load_dataset\n",
    "from langchain.chains import ConversationalRetrievalChain\n",
    "from langchain.vectorstores import Chroma\n",
    "from langchain_ollama import OllamaEmbeddings\n",
    "from langchain_ollama import ChatOllama\n",
    "from typing import List"
   ]
  },
  {
   "cell_type": "code",
   "execution_count": 2,
   "id": "ba8354a4-d892-43e7-a3f4-240a290dea70",
   "metadata": {},
   "outputs": [],
   "source": [
    "# Step 1: Load and prepare the dataset\n",
    "def load_art_dataset(dataset_name: str, subset_size: int = None):\n",
    "    \"\"\"\n",
    "    Load the dataset and prepare it for processing\n",
    "    \"\"\"\n",
    "    dataset = load_dataset(dataset_name)\n",
    "    df = dataset['train'].to_pandas()\n",
    "    \n",
    "    if subset_size:\n",
    "        df = df.head(subset_size)\n",
    "    \n",
    "    # Create combined text field for embeddings\n",
    "    df['combined_text'] = df.apply(\n",
    "        # santize the `style` field, e.g. art-nouveau-modern > art nouveau modern\n",
    "        lambda x: f\"Description: {x['text']}\\nStyle: {x['style'].replace('-', ' ')}\", \n",
    "        axis=1\n",
    "    )\n",
    "    \n",
    "    return dataset, df\n",
    "\n",
    "# Step 2: Set up the LLM and embeddings\n",
    "def setup_llm_and_embeddings():\n",
    "    \"\"\"\n",
    "    Set up language model and embeddings\n",
    "    \"\"\"\n",
    "    embeddings = OllamaEmbeddings(model=\"llama3.2\")\n",
    "    llm = ChatOllama(\n",
    "        model=\"llama3.2\",\n",
    "        temperature=0.8,\n",
    "    )\n",
    "    \n",
    "    return llm, embeddings\n",
    "\n",
    "# Step 3: Create the vector store\n",
    "def create_vectorstore(df: pd.DataFrame, embeddings):\n",
    "    \"\"\"\n",
    "    Create and populate the vector store\n",
    "    \"\"\"\n",
    "    texts = df['combined_text'].tolist()\n",
    "    metadatas = [\n",
    "        {'id': str(i), 'style': style} \n",
    "        for i, style in enumerate(df['style'])\n",
    "    ]\n",
    "    \n",
    "    vectorstore = Chroma.from_texts(\n",
    "        texts=texts,\n",
    "        embedding=embeddings,\n",
    "        metadatas=metadatas,\n",
    "        persist_directory=\"./chroma\"\n",
    "    )\n",
    "    \n",
    "    return vectorstore\n",
    "\n",
    "# Step 4: Create the QA chain\n",
    "def setup_qa_chain(llm, vectorstore):\n",
    "    \"\"\"\n",
    "    Set up the question-answering chain\n",
    "    \"\"\"\n",
    "    qa_chain = ConversationalRetrievalChain.from_llm(\n",
    "        llm=llm,\n",
    "        retriever=vectorstore.as_retriever(\n",
    "            search_kwargs={\"k\": 5}\n",
    "        ),\n",
    "        return_source_documents=True\n",
    "    )\n",
    "    \n",
    "    return qa_chain\n",
    "\n",
    "# Step 5: Query function\n",
    "def query_artwork(query: str, qa_chain, dataset, chat_history: List = None):\n",
    "    \"\"\"\n",
    "    Query the artwork database and return results with images\n",
    "    \"\"\"\n",
    "    if chat_history is None:\n",
    "        chat_history = []\n",
    "        \n",
    "    enhanced_query = f\"\"\"\n",
    "    Find artworks matching this query: {query}\n",
    "    Focus on the style and description of the artworks.\n",
    "    \"\"\"\n",
    "    \n",
    "    response = qa_chain.invoke({\n",
    "        \"question\": enhanced_query, \n",
    "        \"chat_history\": chat_history\n",
    "    })\n",
    "    \n",
    "    # Get images for the retrieved documents\n",
    "    retrieved_images = []\n",
    "    for doc in response[\"source_documents\"]:\n",
    "        image_id = int(doc.metadata.get('id'))\n",
    "        try:\n",
    "            image = dataset['train'][image_id]['image']\n",
    "            style = dataset['train'][image_id]['style']\n",
    "            retrieved_images.append((image, style))\n",
    "        except Exception as e:\n",
    "            print(f\"Error loading image {image_id}: {e}\")\n",
    "    \n",
    "    return {\n",
    "        \"answer\": response[\"answer\"],\n",
    "        \"images\": retrieved_images,\n",
    "        \"source_documents\": response[\"source_documents\"]\n",
    "    }\n",
    "\n",
    "# Step 6: Display function\n",
    "def display_results(result):\n",
    "    \"\"\"\n",
    "    Display the query results and images\n",
    "    \"\"\"\n",
    "    print(\"Answer:\", result[\"answer\"])\n",
    "    print(\"\\nRetrieved Artworks:\")\n",
    "    for img, style in result[\"images\"]:\n",
    "        img.show()\n",
    "        print(f\"Style: {style}\\n\")\n"
   ]
  },
  {
   "cell_type": "code",
   "execution_count": 3,
   "id": "f5c08707-b533-45be-b10b-e99afc6f4ab7",
   "metadata": {},
   "outputs": [],
   "source": [
    "# 1. First, load the dataset\n",
    "wikiart_dataset = \"jlbaker361/wikiart-subjects\"\n",
    "dataset, df = load_art_dataset(wikiart_dataset, subset_size=1000)  # Use small subset for testing"
   ]
  },
  {
   "cell_type": "code",
   "execution_count": 4,
   "id": "848427e4-1d17-449b-bda2-79ddd9e4da81",
   "metadata": {},
   "outputs": [],
   "source": [
    "# 2. Set up the language model and embeddings\n",
    "llm, embeddings = setup_llm_and_embeddings()"
   ]
  },
  {
   "cell_type": "code",
   "execution_count": 5,
   "id": "a9a50b1e-43b2-4ef8-9226-17b1fa09f4b6",
   "metadata": {},
   "outputs": [],
   "source": [
    "# 3. Create the vector store\n",
    "vectorstore = create_vectorstore(df, embeddings)"
   ]
  },
  {
   "cell_type": "code",
   "execution_count": 6,
   "id": "254bdc4d-cca8-454a-bf37-a35c1f5b7b13",
   "metadata": {},
   "outputs": [],
   "source": [
    "# 4. Set up the QA chain\n",
    "qa_chain = setup_qa_chain(llm, vectorstore)"
   ]
  },
  {
   "cell_type": "markdown",
   "id": "7f476d0a-15c3-4624-9e61-670510abdabd",
   "metadata": {},
   "source": [
    "## Queries"
   ]
  },
  {
   "cell_type": "markdown",
   "id": "74e9b8c2-ed1a-4efa-b64a-eda0810af122",
   "metadata": {},
   "source": [
    "### 1) Featuring women"
   ]
  },
  {
   "cell_type": "code",
   "execution_count": 13,
   "id": "b7fc60f4-011d-4153-919a-25e468d4c3fe",
   "metadata": {},
   "outputs": [
    {
     "name": "stdout",
     "output_type": "stream",
     "text": [
      "Answer: Based on the provided context, I can suggest some artworks that feature women. \n",
      "\n",
      "The following artworks match the query:\n",
      "\n",
      "1. A painting described as \"portrait of a woman\" with Style: Expressionism.\n",
      "\n",
      "There are also two paintings of women wearing white shirts, both described as \"a painting of a woman with a white shirt\" and both with Style: Expressionism.\n",
      "\n",
      "It appears that these artworks feature women prominently, but without more information, I don't have enough context to provide further details about the specific artworks.\n",
      "\n",
      "Retrieved Artworks:\n",
      "Style: expressionism\n",
      "\n",
      "Style: baroque\n",
      "\n",
      "Style: expressionism\n",
      "\n",
      "Style: expressionism\n",
      "\n",
      "Style: expressionism\n",
      "\n"
     ]
    }
   ],
   "source": [
    "query = \"What is some art that features women?\"\n",
    "result = query_artwork(query, qa_chain, dataset)\n",
    "display_results(result)"
   ]
  },
  {
   "cell_type": "markdown",
   "id": "6c2f77ce-9eca-4139-8b64-bc8271da5065",
   "metadata": {},
   "source": [
    "### 2) Religious art"
   ]
  },
  {
   "cell_type": "code",
   "execution_count": 14,
   "id": "883bc0f9-f52d-48d7-adfa-d73b3f430d88",
   "metadata": {},
   "outputs": [
    {
     "name": "stdout",
     "output_type": "stream",
     "text": [
      "Answer: I can help you with that! Based on your query, here are a few artworks that match your request:\n",
      "\n",
      "1. \"The Adoration of the Cross\" (multiple versions) - These paintings are known for their dramatic lighting and intense emotions, characteristic of the Baroque style. \n",
      "2. \"The Virgin and the Infant\" - This painting is another example of the Baroque style, featuring intricate details and dynamic composition.\n",
      "3. \"A Woman in a Wooded Landscape\" - Although not exclusively a religious work, this painting does feature a devotional theme, with the subject likely being a representation of Saint Catherine, a Christian martyr.\n",
      "\n",
      "These artworks showcase the dramatic lighting, intense emotions, and intricate details that are typical of Baroque art.\n",
      "\n",
      "Retrieved Artworks:\n",
      "Style: baroque\n",
      "\n",
      "Style: baroque\n",
      "\n",
      "Style: baroque\n",
      "\n",
      "Style: baroque\n",
      "\n",
      "Style: baroque\n",
      "\n"
     ]
    }
   ],
   "source": [
    "query = \"I'd like to see some religious art\"\n",
    "result = query_artwork(query, qa_chain, dataset)\n",
    "display_results(result)"
   ]
  },
  {
   "cell_type": "markdown",
   "id": "0e795f61-a0ca-4f86-af96-419137edb8f5",
   "metadata": {},
   "source": [
    "### 3) Renaissance art"
   ]
  },
  {
   "cell_type": "code",
   "execution_count": 15,
   "id": "247a7f2d-832e-4d88-990c-f398aec468f7",
   "metadata": {},
   "outputs": [
    {
     "name": "stdout",
     "output_type": "stream",
     "text": [
      "Answer: Based on the provided context, here are some paintings that match your query:\n",
      "\n",
      "1. \"The Virgin and the Infant\" by Person (Style: Baroque)\n",
      "   This painting is a work from the Baroque period, which is often associated with the Renaissance.\n",
      "\n",
      "2. \"A Painting of Two People in a Wooded Area\" (Style: Mannerism Late Renaissance)\n",
      "   While not exclusively focused on the Renaissance or Baroque periods, this style description fits within those time frames.\n",
      "\n",
      "These are the only specific artworks that match your query based on the provided context.\n",
      "\n",
      "Retrieved Artworks:\n",
      "Style: baroque\n",
      "\n",
      "Style: mannerism-late-renaissance\n",
      "\n",
      "Style: baroque\n",
      "\n",
      "Style: baroque\n",
      "\n",
      "Style: baroque\n",
      "\n"
     ]
    }
   ],
   "source": [
    "query = \"Paintings from the renaissance\"\n",
    "result = query_artwork(query, qa_chain, dataset)\n",
    "display_results(result)"
   ]
  },
  {
   "cell_type": "markdown",
   "id": "0ba97e24-7aef-4c4d-8800-83696d390039",
   "metadata": {},
   "source": [
    "### 4) Expressionist art featuring nature"
   ]
  },
  {
   "cell_type": "code",
   "execution_count": 16,
   "id": "946ab1b3-bee0-4187-b78c-030194d4702e",
   "metadata": {},
   "outputs": [
    {
     "name": "stdout",
     "output_type": "stream",
     "text": [
      "Answer: I don't know specific examples of expressionist art that feature nature. The descriptions provided only mention a man in different colored shirts, which seems unrelated to your query. Can you provide more context or details about the type of expressionist artwork you're interested in?\n",
      "\n",
      "Retrieved Artworks:\n",
      "Style: expressionism\n",
      "\n",
      "Style: expressionism\n",
      "\n",
      "Style: expressionism\n",
      "\n",
      "Style: expressionism\n",
      "\n",
      "Style: expressionism\n",
      "\n"
     ]
    }
   ],
   "source": [
    "query = \"I'd like to see some expressionist art that featrues nature, like animals or landscapes.\"\n",
    "result = query_artwork(query, qa_chain, dataset)\n",
    "display_results(result)"
   ]
  },
  {
   "cell_type": "code",
   "execution_count": null,
   "id": "56c0c675-3f10-405a-8bda-ab7fe918fe9f",
   "metadata": {},
   "outputs": [],
   "source": []
  }
 ],
 "metadata": {
  "kernelspec": {
   "display_name": "Python 3 (ipykernel)",
   "language": "python",
   "name": "python3"
  },
  "language_info": {
   "codemirror_mode": {
    "name": "ipython",
    "version": 3
   },
   "file_extension": ".py",
   "mimetype": "text/x-python",
   "name": "python",
   "nbconvert_exporter": "python",
   "pygments_lexer": "ipython3",
   "version": "3.10.15"
  }
 },
 "nbformat": 4,
 "nbformat_minor": 5
}
