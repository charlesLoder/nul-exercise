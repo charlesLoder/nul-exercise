{
 "cells": [
  {
   "cell_type": "markdown",
   "id": "49f77309-2149-4712-81b3-c2f4f6771a45",
   "metadata": {},
   "source": [
    "# Query Wikiart\n",
    "\n",
    "A RAG pipeline using the wikiart-subjects dataset"
   ]
  },
  {
   "cell_type": "code",
   "execution_count": 2,
   "id": "b60bccc5-dc1c-4f64-a292-8f305f85e23f",
   "metadata": {},
   "outputs": [
    {
     "data": {
      "text/plain": [
       "True"
      ]
     },
     "execution_count": 2,
     "metadata": {},
     "output_type": "execute_result"
    }
   ],
   "source": [
    "import boto3\n",
    "import os\n",
    "import pandas as pd\n",
    "from datasets import load_dataset\n",
    "from dotenv import load_dotenv\n",
    "from langchain_aws.chat_models.bedrock import ChatBedrock\n",
    "from langchain_aws.embeddings.bedrock import BedrockEmbeddings\n",
    "from langchain.chains import ConversationalRetrievalChain\n",
    "from langchain_core.embeddings import Embeddings\n",
    "from langchain_chroma import Chroma\n",
    "from typing import List\n",
    "\n",
    "load_dotenv()"
   ]
  },
  {
   "cell_type": "code",
   "execution_count": 3,
   "id": "ba8354a4-d892-43e7-a3f4-240a290dea70",
   "metadata": {},
   "outputs": [],
   "source": [
    "def load_art_dataset(dataset_name: str, subset_size: int = None):\n",
    "    \"\"\"\n",
    "    Load the dataset and prepare it for processing\n",
    "    \"\"\"\n",
    "    dataset = load_dataset(dataset_name)\n",
    "    df = dataset['train'].to_pandas()\n",
    "    \n",
    "    if subset_size:\n",
    "        df = df.head(subset_size)\n",
    "    \n",
    "    # Create combined text field for embeddings\n",
    "    df['combined_text'] = df.apply(\n",
    "        # santize the `style` field, e.g. art-nouveau-modern > art nouveau modern\n",
    "        lambda x: f\"Description: {x['text']}\\nStyle: {x['style'].replace('-', ' ')}\", \n",
    "        axis=1\n",
    "    )\n",
    "    \n",
    "    return dataset, df\n",
    "\n",
    "\n",
    "def setup_aws_client(aws_access_key_id: str, aws_secret_access_key: str, region_name: str = 'us-east-1'):\n",
    "    \"\"\"\n",
    "    Set up AWS session and client\n",
    "    \"\"\"\n",
    "    session = boto3.Session(\n",
    "        aws_access_key_id=aws_access_key_id,\n",
    "        aws_secret_access_key=aws_secret_access_key,\n",
    "        region_name=region_name\n",
    "    )\n",
    "    \n",
    "    client = session.client('bedrock-runtime')\n",
    "    return client\n",
    "\n",
    "\n",
    "def setup_llm_and_embeddings(client):\n",
    "    \"\"\"\n",
    "    Set up language model and embeddings using AWS Bedrock\n",
    "    \"\"\"\n",
    "    \n",
    "    llm = ChatBedrock(\n",
    "        client=client,\n",
    "        model_id=\"anthropic.claude-3-5-sonnet-20240620-v1:0\",\n",
    "        model_kwargs={\"temperature\": 0.8}\n",
    "    )\n",
    "    \n",
    "    # Using Titan for embeddings\n",
    "    embeddings = BedrockEmbeddings(\n",
    "        client=client,\n",
    "        model_id=\"amazon.titan-embed-text-v1\"\n",
    "    )\n",
    "    \n",
    "    return llm, embeddings\n",
    "\n",
    "\n",
    "def create_vectorstore(df: pd.DataFrame, embeddings: Embeddings) -> Chroma:\n",
    "    \"\"\"\n",
    "    Create and populate the vector store\n",
    "    \"\"\"\n",
    "    texts = df['combined_text'].tolist()\n",
    "\n",
    "    metadatas = [\n",
    "        {'id': str(i), 'style': style} \n",
    "        for i, style in enumerate(df['style'])\n",
    "    ]\n",
    "    \n",
    "    vectorstore = Chroma(\n",
    "        embedding_function=embeddings,\n",
    "        persist_directory=\"./chroma\"\n",
    "    )\n",
    "\n",
    "    current_records = vectorstore.get(include=[])\n",
    "    current_ids = set(current_records[\"ids\"])\n",
    "\n",
    "    print(f\"Number of records in vectorstore: {len(current_ids)}\")\n",
    "\n",
    "    values_to_add = [\n",
    "        (text, metadata)\n",
    "        for text, metadata in zip(texts, metadatas)\n",
    "        if metadata[\"id\"] not in current_ids\n",
    "    ]\n",
    "\n",
    "    if values_to_add:\n",
    "        print(f\"📀 Adding {len(values_to_add)} new records...\")\n",
    "        vectorstore.add_texts(\n",
    "            texts=[text for text, _ in values_to_add],\n",
    "            metadatas=[metadata for _, metadata in values_to_add],\n",
    "            ids=[metadata[\"id\"] for _, metadata in values_to_add]\n",
    "        )\n",
    "    else:\n",
    "        print(\"🎉 No new records to add\")\n",
    "\n",
    "    \n",
    "    return vectorstore\n",
    "\n",
    "\n",
    "def setup_qa_chain(llm, vectorstore):\n",
    "    \"\"\"\n",
    "    Set up the question-answering chain\n",
    "    \"\"\"\n",
    "    qa_chain = ConversationalRetrievalChain.from_llm(\n",
    "        llm=llm,\n",
    "        retriever=vectorstore.as_retriever(\n",
    "            search_kwargs={\"k\": 5}\n",
    "        ),\n",
    "        return_source_documents=True\n",
    "    )\n",
    "    \n",
    "    return qa_chain\n",
    "\n",
    "\n",
    "def query_artwork(query: str, qa_chain, dataset, chat_history: List = None):\n",
    "    \"\"\"\n",
    "    Query the artwork database and return results with images\n",
    "    \"\"\"\n",
    "    if chat_history is None:\n",
    "        chat_history = []\n",
    "        \n",
    "    enhanced_query = f\"\"\"\n",
    "    Find artworks matching this query: {query}\n",
    "    Focus on the style and description of the artworks.\n",
    "    \"\"\"\n",
    "    \n",
    "    response = qa_chain.invoke({\n",
    "        \"question\": enhanced_query, \n",
    "        \"chat_history\": chat_history\n",
    "    })\n",
    "    \n",
    "    # Get images for the retrieved documents\n",
    "    retrieved_images = []\n",
    "    for doc in response[\"source_documents\"]:\n",
    "        image_id = int(doc.metadata.get('id'))\n",
    "        try:\n",
    "            image = dataset['train'][image_id]['image']\n",
    "            style = dataset['train'][image_id]['style']\n",
    "            retrieved_images.append((image, style))\n",
    "        except Exception as e:\n",
    "            print(f\"Error loading image {image_id}: {e}\")\n",
    "    \n",
    "    return {\n",
    "        \"answer\": response[\"answer\"],\n",
    "        \"images\": retrieved_images,\n",
    "        \"source_documents\": response[\"source_documents\"]\n",
    "    }\n",
    "\n",
    "\n",
    "def display_results(result):\n",
    "    \"\"\"\n",
    "    Display the query results and images\n",
    "    \"\"\"\n",
    "    print(\"Answer:\", result[\"answer\"])\n",
    "    for img, _style in result[\"images\"]:\n",
    "        img.show()\n"
   ]
  },
  {
   "cell_type": "code",
   "execution_count": 4,
   "id": "f5c08707-b533-45be-b10b-e99afc6f4ab7",
   "metadata": {},
   "outputs": [],
   "source": [
    "# 1. Load the dataset\n",
    "wikiart_dataset = \"jlbaker361/wikiart-subjects\"\n",
    "dataset, df = load_art_dataset(wikiart_dataset, subset_size=500)  # Use small subset for testing"
   ]
  },
  {
   "cell_type": "code",
   "execution_count": 5,
   "id": "2c329198",
   "metadata": {},
   "outputs": [],
   "source": [
    "#2. Set up AWS credentials and client\n",
    "aws_access_key_id = os.getenv(\"AWS_ACCESS_KEY_ID\")\n",
    "aws_secret_access_key = os.getenv(\"AWS_SECRET_ACCESS_KEY\")\n",
    "    \n",
    "client = setup_aws_client(aws_access_key_id, aws_secret_access_key)"
   ]
  },
  {
   "cell_type": "code",
   "execution_count": 6,
   "id": "848427e4-1d17-449b-bda2-79ddd9e4da81",
   "metadata": {},
   "outputs": [],
   "source": [
    "# 3. Set up the language model and embeddings\n",
    "llm, embeddings = setup_llm_and_embeddings(client)"
   ]
  },
  {
   "cell_type": "code",
   "execution_count": 7,
   "id": "a9a50b1e-43b2-4ef8-9226-17b1fa09f4b6",
   "metadata": {},
   "outputs": [
    {
     "name": "stdout",
     "output_type": "stream",
     "text": [
      "Number of records in vectorstore: 500\n",
      "🎉 No new records to add\n"
     ]
    }
   ],
   "source": [
    "# 4. Create the vector store\n",
    "vectorstore = create_vectorstore(df, embeddings)"
   ]
  },
  {
   "cell_type": "code",
   "execution_count": 8,
   "id": "254bdc4d-cca8-454a-bf37-a35c1f5b7b13",
   "metadata": {},
   "outputs": [],
   "source": [
    "# 5. Set up the QA chain\n",
    "qa_chain = setup_qa_chain(llm, vectorstore)"
   ]
  },
  {
   "cell_type": "markdown",
   "id": "7f476d0a-15c3-4624-9e61-670510abdabd",
   "metadata": {},
   "source": [
    "## Queries"
   ]
  },
  {
   "cell_type": "markdown",
   "id": "74e9b8c2-ed1a-4efa-b64a-eda0810af122",
   "metadata": {},
   "source": [
    "### 1) Featuring women"
   ]
  },
  {
   "cell_type": "code",
   "execution_count": 9,
   "id": "b7fc60f4-011d-4153-919a-25e468d4c3fe",
   "metadata": {},
   "outputs": [
    {
     "name": "stdout",
     "output_type": "stream",
     "text": [
      "Answer: Based on the provided context, here are some artworks that feature women, focusing on their style and description:\n",
      "\n",
      "1. Style: Baroque\n",
      "   Description: A painting of a woman and a man\n",
      "\n",
      "2. Style: Northern Renaissance\n",
      "   Description: A painting of a woman surrounded by a group of people\n",
      "\n",
      "3. Style: Art Nouveau Modern\n",
      "   Description: A painting of a woman laying on the ground\n",
      "\n",
      "4. Style: Expressionism\n",
      "   Description: A painting of a woman standing next to a man\n",
      "\n",
      "5. Style: High Renaissance\n",
      "   Description: A painting of a woman with a veil\n",
      "\n",
      "These artworks span various artistic periods and styles, from the Renaissance to more modern movements like Art Nouveau and Expressionism. They depict women in different contexts - alone, with men, in groups, and in various poses or situations.\n"
     ]
    }
   ],
   "source": [
    "query = \"What is some art that features women?\"\n",
    "result = query_artwork(query, qa_chain, dataset)\n",
    "display_results(result)"
   ]
  },
  {
   "cell_type": "markdown",
   "id": "6c2f77ce-9eca-4139-8b64-bc8271da5065",
   "metadata": {},
   "source": [
    "### 2) Religious art"
   ]
  },
  {
   "cell_type": "code",
   "execution_count": 10,
   "id": "883bc0f9-f52d-48d7-adfa-d73b3f430d88",
   "metadata": {},
   "outputs": [
    {
     "name": "stdout",
     "output_type": "stream",
     "text": [
      "Answer: Based on the given context, here are some artworks that match your query for religious art, focusing on their style and description:\n",
      "\n",
      "1. Style: Art Nouveau Modern\n",
      "   Description: A painting of Jesus holding a scroll\n",
      "\n",
      "2. Style: Expressionism\n",
      "   Description: A painting of a church in the middle of a town\n",
      "\n",
      "3. Style: Northern Renaissance\n",
      "   Description: A drawing of a crowd in a church\n",
      "\n",
      "4. Style: Northern Renaissance\n",
      "   Description: The Adoration of the Cross, featuring multiple people (the description lists \"person\" multiple times)\n",
      "\n",
      "5. Style: Northern Renaissance\n",
      "   Description: A statue of an angel holding a book\n",
      "\n",
      "These artworks all have religious themes or subjects, ranging from depictions of Jesus and angels to church scenes and religious events like the Adoration of the Cross. The styles vary from Art Nouveau Modern to Expressionism and Northern Renaissance, offering a diverse representation of religious art across different artistic movements.\n"
     ]
    }
   ],
   "source": [
    "query = \"I'd like to see some religious art\"\n",
    "result = query_artwork(query, qa_chain, dataset)\n",
    "display_results(result)"
   ]
  },
  {
   "cell_type": "markdown",
   "id": "0e795f61-a0ca-4f86-af96-419137edb8f5",
   "metadata": {},
   "source": [
    "### 3) Renaissance art"
   ]
  },
  {
   "cell_type": "code",
   "execution_count": 11,
   "id": "247a7f2d-832e-4d88-990c-f398aec468f7",
   "metadata": {},
   "outputs": [
    {
     "name": "stdout",
     "output_type": "stream",
     "text": [
      "Answer: Based on the context provided, I can describe several paintings from the Renaissance period that match your query:\n",
      "\n",
      "1. High Renaissance painting:\n",
      "   - Description: A painting of a person\n",
      "   - Style: High Renaissance\n",
      "\n",
      "2. Early Renaissance paintings:\n",
      "   - Description: A painting of a person\n",
      "   - Style: Early Renaissance\n",
      "\n",
      "   - Description: A painting of a man in a robe and hat\n",
      "   - Style: Early Renaissance\n",
      "\n",
      "   - Description: A painting of a woman and two men in a room\n",
      "   - Style: Early Renaissance\n",
      "\n",
      "3. Northern Renaissance painting:\n",
      "   - Description: A painting of two women in Renaissance dress\n",
      "   - Style: Northern Renaissance\n",
      "\n",
      "These artworks represent different sub-periods and regional styles within the broader Renaissance movement. The subjects vary from individual portraits to group scenes, and they showcase typical Renaissance clothing and settings. The Early Renaissance style appears to be the most common among these examples, with three paintings falling into that category.\n"
     ]
    }
   ],
   "source": [
    "query = \"Paintings from the renaissance\"\n",
    "result = query_artwork(query, qa_chain, dataset)\n",
    "display_results(result)"
   ]
  },
  {
   "cell_type": "markdown",
   "id": "0ba97e24-7aef-4c4d-8800-83696d390039",
   "metadata": {},
   "source": [
    "### 4) Expressionist art featuring nature"
   ]
  },
  {
   "cell_type": "code",
   "execution_count": 12,
   "id": "946ab1b3-bee0-4187-b78c-030194d4702e",
   "metadata": {},
   "outputs": [
    {
     "name": "stdout",
     "output_type": "stream",
     "text": [
      "Answer: Based on the provided context, I can suggest a few artworks that match your query for expressionist art featuring nature:\n",
      "\n",
      "1. \"A drawing of a mountain scene with a tree and mountains in the background\"\n",
      "   Style: Expressionism\n",
      "   This artwork features a natural landscape with mountains and trees, fitting your request for nature-themed expressionist art.\n",
      "\n",
      "2. \"A painting of people walking through a forest\"\n",
      "   Style: Expressionism\n",
      "   While this piece focuses on people, it is set in a forest, which aligns with your interest in natural settings within expressionist art.\n",
      "\n",
      "3. \"A painting of a man and a dog in a field\"\n",
      "   Style: Expressionism\n",
      "   This artwork includes both an animal (the dog) and a natural setting (the field), matching your request for expressionist art featuring nature and animals.\n",
      "\n",
      "These three artworks all fall under the expressionist style and incorporate elements of nature, either through landscapes or animals, as you requested.\n"
     ]
    }
   ],
   "source": [
    "query = \"I'd like to see some expressionist art that featrues nature, like animals or landscapes.\"\n",
    "result = query_artwork(query, qa_chain, dataset)\n",
    "display_results(result)"
   ]
  },
  {
   "cell_type": "code",
   "execution_count": 15,
   "id": "e8c84cce-f34f-48a2-ba91-6dcbb03ded0e",
   "metadata": {},
   "outputs": [
    {
     "name": "stdout",
     "output_type": "stream",
     "text": [
      "Answer: Based on the information provided, there are a few expressionist paintings that feature nature scenes or animals, and some of them use intense or unnatural colors, which is a common characteristic of expressionist art. Here are the relevant examples:\n",
      "\n",
      "1. \"A painting of a man and woman in a forest\" - This expressionist work features a natural setting (forest) with human figures. While the color details aren't specified, expressionist art often uses vivid, non-realistic colors to convey emotions or inner experiences.\n",
      "\n",
      "2. \"A painting of a man and a dog in a field\" - This piece combines a natural setting (field) with both human and animal subjects. Again, typical of expressionism, the colors might be intense or unnatural to express emotional content, though specific color information isn't provided.\n",
      "\n",
      "3. \"A painting of a rainbow over a house\" - This expressionist work features a natural phenomenon (rainbow) in conjunction with a man-made structure (house). Rainbows inherently involve vibrant colors, which in an expressionist style might be even more intensified or altered to convey a particular mood or feeling.\n",
      "\n",
      "While not explicitly described as using intense or unnatural colors, these expressionist paintings with nature themes would likely employ bold, emotive color choices as is characteristic of the style. Expressionism often distorts color and form to convey inner feelings or ideas rather than depicting objective reality.\n",
      "\n",
      "It's worth noting that the painting described as \"a man in a jungle with a moon and trees\" is listed as \"art nouveau modern\" rather than expressionism, so I didn't include it in this analysis of expressionist works.\n"
     ]
    }
   ],
   "source": [
    "second_query = \"From these results, which paintings use intense or unnatural colors to convey emotion?\"\n",
    "result = query_artwork(second_query, qa_chain, dataset, [(query, result[\"answer\"])])\n",
    "display_results(result)"
   ]
  },
  {
   "cell_type": "code",
   "execution_count": null,
   "id": "232e52d3-9a30-4283-a5c5-e0433f71f92d",
   "metadata": {},
   "outputs": [],
   "source": []
  }
 ],
 "metadata": {
  "kernelspec": {
   "display_name": "Python 3 (ipykernel)",
   "language": "python",
   "name": "python3"
  },
  "language_info": {
   "codemirror_mode": {
    "name": "ipython",
    "version": 3
   },
   "file_extension": ".py",
   "mimetype": "text/x-python",
   "name": "python",
   "nbconvert_exporter": "python",
   "pygments_lexer": "ipython3",
   "version": "3.10.15"
  }
 },
 "nbformat": 4,
 "nbformat_minor": 5
}
